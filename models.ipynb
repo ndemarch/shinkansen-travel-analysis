{
 "cells": [
  {
   "cell_type": "code",
   "execution_count": 296,
   "id": "4749960c-975f-4173-8c0f-15e6b081e9d8",
   "metadata": {},
   "outputs": [],
   "source": [
    "from pandas import read_csv\n",
    "from sklearn.model_selection import train_test_split, GridSearchCV, KFold, cross_val_score\n",
    "from sklearn.linear_model import LogisticRegression\n",
    "import numpy as np\n",
    "import scipy.optimize as opt\n",
    "import pandas as pd\n",
    "from sklearn import preprocessing\n",
    "from sklearn.naive_bayes import GaussianNB, BernoulliNB\n",
    "import seaborn as sns\n",
    "import matplotlib.pyplot as plt\n",
    "from scipy.stats import zscore\n",
    "import statsmodels.api as sm\n",
    "from sklearn.preprocessing import StandardScaler, LabelEncoder, MinMaxScaler, OrdinalEncoder\n",
    "from sklearn.impute import SimpleImputer, KNNImputer\n",
    "from sklearn.linear_model import LogisticRegressionCV\n",
    "from sklearn.model_selection import train_test_split\n",
    "from sklearn.metrics import precision_score, recall_score, confusion_matrix, classification_report, accuracy_score, f1_score\n",
    "from statsmodels.stats.outliers_influence import variance_inflation_factor\n",
    "import warnings\n",
    "warnings.filterwarnings('ignore')"
   ]
  },
  {
   "cell_type": "code",
   "execution_count": 297,
   "id": "24ad4a67-8c99-4afd-abe2-07288ca69688",
   "metadata": {},
   "outputs": [],
   "source": [
    "def clean_data_one_hot(data):\n",
    "    # replace NaN with mean/mode for numerical and categoriacal\n",
    "    for col in data.select_dtypes(include=['number']).columns:\n",
    "        data[col].fillna(data[col].mean(), inplace=True)\n",
    "    for col in data.select_dtypes(include=['object']).columns:\n",
    "        data[col].fillna(data[col].mode()[0], inplace=True)\n",
    "    # create binary columns for each categorical option\n",
    "    data = pd.get_dummies(\n",
    "        data=data, \n",
    "        columns=list(data.select_dtypes(include=['object']).columns)).astype(int)\n",
    "    data.drop(['ID'],inplace=True, axis=1)\n",
    "    return data\n",
    "\n",
    "def concatenate(df1,df2):\n",
    "    return pd.concat([df1, df2], axis=1)\n",
    "\n",
    "def count_outliers_iqr(data, column):\n",
    "    Q1 = data[column].quantile(0.25)\n",
    "    Q3 = data[column].quantile(0.75)\n",
    "    IQR = Q3 - Q1\n",
    "    lower_bound = Q1 - 1.5 * IQR\n",
    "    upper_bound = Q3 + 1.5 * IQR\n",
    "    outliers = data[(data[column] < lower_bound) | (data[column] > upper_bound)]\n",
    "    return len(outliers)\n",
    "\n",
    "def remove_outliers_iqr(data, column):\n",
    "    Q1 = data[column].quantile(0.25)\n",
    "    Q3 = data[column].quantile(0.75)\n",
    "    IQR = Q3 - Q1\n",
    "    lower_bound = Q1 - 1.5 * IQR\n",
    "    upper_bound = Q3 + 1.5 * IQR\n",
    "    return data[(data[column] >= lower_bound) & (data[column] <= upper_bound)]\n",
    "\n",
    "def drop_highly_correlated(data, threshold=0.5):\n",
    "    correlation_matrix = data.corr().abs()\n",
    "    upper_triangle = correlation_matrix.where(\n",
    "        np.triu(np.ones(correlation_matrix.shape), k=1).astype(bool)\n",
    "    )\n",
    "    highly_correlated_columns = [column for column in upper_triangle.columns if any(upper_triangle[column] > threshold)]\n",
    "    data = data.drop(columns=highly_correlated_columns)\n",
    "    return data\n",
    "\n",
    "def correlation_matrix_plot(data):\n",
    "    correlation_matrix = data.corr()\n",
    "    mask = np.triu(np.ones_like(correlation_matrix, dtype=bool))\n",
    "    plt.figure(figsize=(12, 10))\n",
    "    sns.heatmap(\n",
    "        correlation_matrix, \n",
    "        mask=mask, \n",
    "        annot=True,\n",
    "        cmap=\"coolwarm\",\n",
    "        vmax=1, \n",
    "        vmin=-1, \n",
    "        center=0,\n",
    "        square=True,\n",
    "        linewidths=0.5,\n",
    "        cbar_kws={\"shrink\": 0.75}\n",
    "    )\n",
    "    plt.title(\"Correlation Matrix (Lower Triangle)\")\n",
    "    plt.show()\n",
    "\n",
    "def strong_correlation_matrix_plot(data, threshold=0.5):\n",
    "    correlation_matrix = data.corr()\n",
    "    # Apply threshold to show only strong correlations\n",
    "    strong_corr = correlation_matrix[(correlation_matrix >= threshold) | (correlation_matrix <= -threshold)]\n",
    "    \n",
    "    mask = np.triu(np.ones_like(strong_corr, dtype=bool))\n",
    "    plt.figure(figsize=(12, 10))\n",
    "    sns.heatmap(\n",
    "        strong_corr, \n",
    "        mask=mask, \n",
    "        annot=True, \n",
    "        cmap=\"coolwarm\", \n",
    "        vmax=1, \n",
    "        vmin=-1, \n",
    "        center=0, \n",
    "        square=True, \n",
    "        linewidths=0.5, \n",
    "        cbar_kws={\"shrink\": 0.75}\n",
    "    )\n",
    "    plt.title(\"Strong Correlations (>|{:.1f}|)\".format(threshold))\n",
    "    plt.show()\n",
    "\n",
    "def logistic_regression_sm(X_train, y_train, X_test):\n",
    "    # add constant (i.e beta_0 intercept term)\n",
    "    X_train = sm.add_constant(X_train)\n",
    "    X_test = sm.add_constant(X_test)\n",
    "    model = sm.Logit(y_train, X_train)\n",
    "    result = model.fit()\n",
    "    # print the summary\n",
    "    print(result.summary())\n",
    "    print(\"Training accuracy:\", accuracy_score(y_train, (result.predict(X_train) >= 0.5).astype(int)))\n",
    "    # predict\n",
    "    predictions = result.predict(X_test)\n",
    "    # convert probabilities to binary predictions (0/1)\n",
    "    binary_predictions = (predictions >= 0.5).astype(int)\n",
    "    return binary_predictions, model\n",
    "\n",
    "def sigmoid(z):\n",
    "    return 1 / (1 + np.exp(-z))\n",
    "\n",
    "def cost_function(theta, X, y):\n",
    "    m = len(y)\n",
    "    predictions = sigmoid(np.dot(X, theta))\n",
    "    cost = -1/m * (np.dot(y, np.log(predictions)) + np.dot(1 - y, np.log(1 - predictions)))\n",
    "    gradient = 1/m * np.dot(X.T, (predictions - y))\n",
    "    return cost, gradient\n",
    "\n",
    "def logistic_regression(X_train, y_train, X_test):\n",
    "    # initialize theta (parameters) to zeros\n",
    "    initial_beta = np.zeros(X_train.shape[1])\n",
    "    # perform optimization\n",
    "    result = opt.minimize(fun=cost_function, x0=initial_beta, args=(X_train, y_train), jac=True, method='TNC')\n",
    "    # Get beta's\n",
    "    beta_optimal = result.x\n",
    "    # predict and convert probabilities\n",
    "    predictions = sigmoid(np.dot(X_test, beta_optimal))\n",
    "    binary_predictions = (predictions >= 0.5).astype(int)\n",
    "    return binary_predictions, result\n",
    "    \n",
    "\n",
    "\n",
    "def metrics_score(actual, predicted):\n",
    "    # metric report and plot\n",
    "    print(classification_report(actual, predicted, digits=3))\n",
    "    cm = confusion_matrix(actual, predicted)\n",
    "    plt.figure(figsize=(8,5))\n",
    "    sns.heatmap(cm, \n",
    "                annot=True,  \n",
    "                fmt='.0f', \n",
    "                cmap='Blues', \n",
    "                cbar_kws={'label': 'Number of predictions'},\n",
    "               )\n",
    "    plt.ylabel('Actual')\n",
    "    plt.xlabel('Predicted')\n",
    "    plt.show()\n",
    "\n",
    "def hist_box(data, col):\n",
    "    # explore distributions and outliers plot\n",
    "    f, (ax_box, ax_hist) = plt.subplots(2, \n",
    "                                        sharex=True, \n",
    "                                        gridspec_kw={'height_ratios': (0.15, 0.85)}, \n",
    "                                        figsize=(8,5))\n",
    "    sns.boxplot(x = data[col], ax=ax_box, showmeans=True)\n",
    "    sns.distplot(data[col], ax=ax_hist, bins = 45)\n",
    "    # adding verticle mean/median lines to distplot to match up with boxplot mean/median\n",
    "    ax_hist.axvline(data[col].median(), c='k', linestyle = 'dashed', label = 'median')\n",
    "    ax_hist.axvline(data[col].mean(), c = 'g', linestyle = 'dashed', label = 'mean')\n",
    "    ax_hist.legend(loc = 0, frameon = False, labelcolor = 'linecolor', fontsize = 15)\n",
    "    # adjustement of label and label size\n",
    "    ax_hist.set_xlabel(col, fontsize = 14)\n",
    "    ax_hist.set_ylabel('Density', fontsize = 14)\n",
    "    plt.show()\n",
    "    plt.close()\n",
    "    print(20*'*'+'End of Box+Hist plot for '+ str(col)+20*'*')"
   ]
  },
  {
   "cell_type": "code",
   "execution_count": 298,
   "id": "ebae364a-8752-4958-b78b-3a0a58b72710",
   "metadata": {},
   "outputs": [],
   "source": [
    "train_travel = pd.read_csv('./shinkansen_travel_data/travel_data_train.csv')\n",
    "train_survey = pd.read_csv('./shinkansen_travel_data/survey_data_train.csv')"
   ]
  },
  {
   "cell_type": "code",
   "execution_count": 299,
   "id": "1320cbc6-67f8-4c4f-a524-760c9e9d7d8d",
   "metadata": {},
   "outputs": [],
   "source": [
    "# create the mapping dictionary for 'Platform_location' to match the others\n",
    "platform_to_rest_mapping = {\n",
    "    'very convinient': 'excellent',\n",
    "    'Convinient': 'good',\n",
    "    'manageable': 'acceptable',\n",
    "    'need improvement': 'need improvement',\n",
    "    'Inconvinient': 'poor',\n",
    "    'very inconvinient': 'extremely poor',\n",
    "}\n",
    "# replace the values in 'Platform_location' using the mapping dictionary\n",
    "train_survey['Platform_location'] = train_survey['Platform_location'].map(platform_to_rest_mapping)"
   ]
  },
  {
   "cell_type": "code",
   "execution_count": 300,
   "id": "d2bbe002-2b8c-4385-8eff-a08dae3d65ac",
   "metadata": {},
   "outputs": [
    {
     "name": "stdout",
     "output_type": "stream",
     "text": [
      "All NaN values handled:  True\n"
     ]
    }
   ],
   "source": [
    "# clean data and one hot label encode\n",
    "train_travel_clean, train_survey_clean = clean_data_one_hot(train_travel), clean_data_one_hot(train_survey)\n",
    "train_data = concatenate(train_travel_clean, train_survey_clean)\n",
    "print(\"All NaN values handled: \", train_data.isnull().sum().sum() == 0)"
   ]
  },
  {
   "cell_type": "code",
   "execution_count": 301,
   "id": "80fcd25d-b595-4052-a639-ebe6f0f72976",
   "metadata": {},
   "outputs": [],
   "source": [
    "#correlation_matrix_plot(train_data)\n",
    "#train_travel.info()"
   ]
  },
  {
   "cell_type": "code",
   "execution_count": 302,
   "id": "b388d6dd-c217-4d75-a406-656f2c3984ff",
   "metadata": {},
   "outputs": [
    {
     "name": "stdout",
     "output_type": "stream",
     "text": [
      "We have the following class balance in our data:\n",
      "class 1 (satisfied): 54.67 percent\n",
      "class 0 (disatisfied): 45.33 percent\n"
     ]
    }
   ],
   "source": [
    "class_balance = train_data['Overall_Experience'].value_counts() / train_data['Overall_Experience'].value_counts().sum()\n",
    "print(f\"We have the following class balance in our data:\")\n",
    "print(f\"class 1 (satisfied): {round(100*class_balance[1],2)} percent\")\n",
    "print(f\"class 0 (disatisfied): {round(100*class_balance[0],2)} percent\")"
   ]
  },
  {
   "cell_type": "code",
   "execution_count": 303,
   "id": "c7b2f3f0-73f2-44ff-b144-b49944d23a7f",
   "metadata": {},
   "outputs": [
    {
     "name": "stdout",
     "output_type": "stream",
     "text": [
      "Columns with outliers: ['Seat_comfort_acceptable', 'Seat_comfort_good', 'Seat_comfort_need improvement', 'Platform_location_good', 'Onboardwifi_service_acceptable', 'Onboardwifi_service_excellent', 'Onboardwifi_service_good', 'Onboard_entertainment_excellent', 'Onboard_service_excellent', 'Online_boarding_acceptable', 'Online_boarding_excellent']\n"
     ]
    }
   ],
   "source": [
    "columns_with_outliers = []\n",
    "outliers_summary = {}\n",
    "\n",
    "for column in train_data.columns:\n",
    "    outlier_count = count_outliers_iqr(train_data, column)\n",
    "    outliers_summary[column] = outlier_count\n",
    "    if outlier_count > 20000:  # extreme cases of many outliers (> 20%)\n",
    "        columns_with_outliers.append(column)\n",
    "\n",
    "#for col, val in outliers_summary.items():\n",
    "#    print(col, val)\n",
    "print(\"Columns with outliers:\", columns_with_outliers)"
   ]
  },
  {
   "cell_type": "markdown",
   "id": "0958ae98-be58-46fe-be13-59af186d6837",
   "metadata": {},
   "source": [
    "We only remove the most extreme outlier cases since we are dealing with categorical data and some outlier detection might simply be from uneven category counts (i.e. if we have an even number of customers that are happy, neutral or sad, we might calculate a mean of neutral and the happy and sad cases are considered 'outliers'). If we remove some of the outliers for all our categories we will heavily skew towards satisfied customers in our dataset and then BIAS our model to detect these cases mainly. This way we maintain an EVEN split of satisfied and unsatisfied customers in our dataset."
   ]
  },
  {
   "cell_type": "code",
   "execution_count": 304,
   "id": "b7ded393-9dda-4134-a383-d47ff1641f87",
   "metadata": {},
   "outputs": [
    {
     "name": "stdout",
     "output_type": "stream",
     "text": [
      "Shape before outlier removal:  (94379, 98)\n",
      "Shape after outlier removal:  (30517, 98)\n",
      "We have the following class balance in our data:\n",
      "class 1 (satisfied): 51.35 percent\n",
      "class 0 (disatisfied): 48.65 percent\n"
     ]
    }
   ],
   "source": [
    "print(\"Shape before outlier removal: \", train_data.shape)\n",
    "for column in columns_with_outliers:\n",
    "    train_data = remove_outliers_iqr(train_data, column)\n",
    "assert train_data.isnull().sum().sum() == 0\n",
    "print(\"Shape after outlier removal: \", train_data.shape)\n",
    "\n",
    "new_class_balance = train_data['Overall_Experience'].value_counts() / train_data['Overall_Experience'].value_counts().sum()\n",
    "print(f\"We have the following class balance in our data:\")\n",
    "print(f\"class 1 (satisfied): {round(100*new_class_balance[1],2)} percent\")\n",
    "print(f\"class 0 (disatisfied): {round(100*new_class_balance[0],2)} percent\")"
   ]
  },
  {
   "cell_type": "code",
   "execution_count": 305,
   "id": "35f8a7ba-d09d-4dd4-bd86-73f2b63567c8",
   "metadata": {},
   "outputs": [
    {
     "name": "stdout",
     "output_type": "stream",
     "text": [
      "(30517, 82)\n"
     ]
    }
   ],
   "source": [
    "y = train_data['Overall_Experience']\n",
    "X = train_data.drop(['Overall_Experience'], axis=1)\n",
    "# drop highly correlated columns to reduce feature space\n",
    "X = drop_highly_correlated(X, threshold=0.7)\n",
    "print(X.shape)"
   ]
  },
  {
   "cell_type": "code",
   "execution_count": 306,
   "id": "b0df876b-8ad3-4fd9-84fb-d78d5a917bd9",
   "metadata": {},
   "outputs": [],
   "source": [
    "#rank = np.linalg.matrix_rank(X)\n",
    "#print(f\"Rank of the design matrix: {rank}\")\n",
    "#print(f\"Number of features: {X.shape[1]}\")\n",
    "## checking for duplicate columns\n",
    "#duplicate_columns = X.columns[X.columns.duplicated()]\n",
    "#print(f\"Duplicate Columns: {duplicate_columns.tolist()}\")\n",
    "## checking for constant columns\n",
    "#constant_columns = [col for col in X.columns if X[col].nunique() <= 1]\n",
    "#print(f\"Constant Columns: {constant_columns}\")\n",
    "#X = X.drop(columns=constant_columns)\n",
    "#print(X.shape)\n",
    "#\n",
    "## calculate VIF for each feature\n",
    "#vif_data = pd.DataFrame()\n",
    "#vif_data[\"Feature\"] = X.columns\n",
    "#vif_data[\"VIF\"] = [variance_inflation_factor(X.values, i) for i in range(X.shape[1])]\n",
    "## drop features with high VIF\n",
    "#high_vif_features = vif_data[vif_data[\"VIF\"] > 10][\"Feature\"].tolist()\n",
    "#X = X.drop(columns=high_vif_features)\n",
    "## check the updated shape and rank\n",
    "#print(f\"Remaining columns after dropping high VIF features: {X.shape[1]}\")\n",
    "#rank = np.linalg.matrix_rank(X)\n",
    "#print(f\"Rank of the updated design matrix: {rank}\")"
   ]
  },
  {
   "cell_type": "code",
   "execution_count": null,
   "id": "b4d370f4-0c31-4b5f-94e5-f5966605021a",
   "metadata": {},
   "outputs": [],
   "source": []
  },
  {
   "cell_type": "code",
   "execution_count": 307,
   "id": "300d203f-a3e0-4607-b597-93b768ea7690",
   "metadata": {},
   "outputs": [],
   "source": [
    "scaler = StandardScaler()\n",
    "X = scaler.fit_transform(X)\n",
    "# split data into train and test samples\n",
    "X_train, X_test, y_train, y_test = train_test_split(X, y, test_size=0.2, random_state=42, stratify=y)\n",
    "# call log reg function from statsmodel\n",
    "y_preds, lr_model = logistic_regression(X_train, y_train, X_test)"
   ]
  },
  {
   "cell_type": "code",
   "execution_count": 308,
   "id": "fb8f9dcf-5dba-46a4-b1fe-bfa95abc43f5",
   "metadata": {},
   "outputs": [
    {
     "name": "stdout",
     "output_type": "stream",
     "text": [
      "Classification Report for Log Reg:\n",
      "              precision    recall  f1-score   support\n",
      "\n",
      "           0      0.869     0.908     0.888      2970\n",
      "           1      0.909     0.870     0.889      3134\n",
      "\n",
      "    accuracy                          0.889      6104\n",
      "   macro avg      0.889     0.889     0.889      6104\n",
      "weighted avg      0.890     0.889     0.889      6104\n",
      "\n"
     ]
    },
    {
     "data": {
      "image/png": "[encoded data removed]",
      "text/plain": [
       "<Figure size 800x500 with 2 Axes>"
      ]
     },
     "metadata": {},
     "output_type": "display_data"
    }
   ],
   "source": [
    "print(\"Classification Report for Log Reg:\")\n",
    "metrics_score(y_test, y_preds)"
   ]
  },
  {
   "cell_type": "markdown",
   "id": "c43b2c52-de93-4b6c-9473-01fdd85a5c01",
   "metadata": {},
   "source": [
    "Below is a breakdown of the classification report:\n",
    "1. **Class 0 (Dissatisfied Customer)**:\n",
    "   - **Precision:** 86.9% of customers predicted as dissatisfied were actually dissatisfied.\n",
    "   - **Recall:** the model identified 90.8% of the actual dissatisfied customers correctly.\n",
    "   - **F1-score:** 0.888 shows a strong balance between precision and recall, indicating good performance in identifying dissatisfied customers.\n",
    "\n",
    "2. **Class 1 (Satisfied Customer)**:\n",
    "   - **Precision:** 90.9% of customers predicted as satisfied were indeed satisfied.\n",
    "   - **Recall:** the model identified 87.0% of the actual satisfied customers correctly.\n",
    "   - **F1-score:** 0.889 reflects solid, balanced performance in predicting satisfied customers as well.\n",
    "\n",
    "3. **Overall Performance**:\n",
    "   - **Accuracy:** 88.9% of all predictions were correct, showing strong overall performance.\n",
    "   - **Macro average** and **weighted average:** indicate consistent performance across both classes without significant bias toward one class over the other.\n",
    "\n",
    "### Summary:\n",
    "The metrics suggest that the model is balanced and effective at predicting both classes, which is ideal, especially when there’s a relatively even distribution of the classes in the dataset. Overall, this model provides reliable, well-balanced predictions without significant class imbalance issues."
   ]
  },
  {
   "cell_type": "code",
   "execution_count": 241,
   "id": "4bbf8c03-cf2a-402c-8d2d-f24fd023a9cd",
   "metadata": {},
   "outputs": [
    {
     "name": "stdout",
     "output_type": "stream",
     "text": [
      "Training Accuracy: 0.89\n",
      "Testing Accuracy: 0.89\n",
      "              precision    recall  f1-score   support\n",
      "\n",
      "           0      0.879     0.896     0.887      2970\n",
      "           1      0.899     0.884     0.891      3134\n",
      "\n",
      "    accuracy                          0.889      6104\n",
      "   macro avg      0.889     0.890     0.889      6104\n",
      "weighted avg      0.890     0.889     0.889      6104\n",
      "\n"
     ]
    },
    {
     "data": {
      "image/png": "[encoded data removed]",
      "text/plain": [
       "<Figure size 800x500 with 2 Axes>"
      ]
     },
     "metadata": {},
     "output_type": "display_data"
    }
   ],
   "source": [
    "# compare against sklearn\n",
    "log_reg_cv = LogisticRegressionCV(cv=5, penalty='l2')\n",
    "log_reg_cv.fit(X_train, y_train)\n",
    "\n",
    "train_accuracy = log_reg_cv.score(X_train, y_train)\n",
    "test_accuracy = log_reg_cv.score(X_test, y_test)\n",
    "\n",
    "print(f'Training Accuracy: {train_accuracy:.2f}')\n",
    "print(f'Testing Accuracy: {test_accuracy:.2f}')\n",
    "\n",
    "metrics_score(y_test, log_reg_cv.predict(X_test))"
   ]
  },
  {
   "cell_type": "markdown",
   "id": "2ab91911-e51a-4b8a-89ea-19d9d8c592ee",
   "metadata": {},
   "source": [
    "The above shows that by adding in L2 (Ridge) regularization along with k-fold cross validation we maintain similer performance. This is because regularization helps in preventing overfitting by penalizing large coefficients, which can make the model more generalizable. However, our dataset already has a clear structure, and our base model seems pretty stable so we may not need regularization. Also, K-fold cross-validation helps to estimate the model’s performance more robustly by testing it on different subsets of the data. Since we do not see much improvement it suggests that our dataset is not particularly noisy or prone to variance. "
   ]
  },
  {
   "cell_type": "code",
   "execution_count": 242,
   "id": "5a8a2bc0-6999-4e9f-8514-2094f9daf341",
   "metadata": {},
   "outputs": [
    {
     "name": "stdout",
     "output_type": "stream",
     "text": [
      "Bernoulli Naive Bayes Train Accuracy: 0.85\n",
      "Bernoulli Naive Bayes Test Accuracy: 0.86\n"
     ]
    }
   ],
   "source": [
    "# fit Bernoulli Naive Bayes model\n",
    "bnb = BernoulliNB()\n",
    "bnb.fit(X_train, y_train)\n",
    "# pred and eval\n",
    "y_pred_train = bnb.predict(X_train)\n",
    "y_pred_test = bnb.predict(X_test)\n",
    "accuracy_train = accuracy_score(y_train, y_pred_train)\n",
    "accuracy_test = accuracy_score(y_test, y_pred_test)\n",
    "print(f'Bernoulli Naive Bayes Train Accuracy: {accuracy_train:.2f}')\n",
    "print(f'Bernoulli Naive Bayes Test Accuracy: {accuracy_test:.2f}')"
   ]
  },
  {
   "cell_type": "code",
   "execution_count": 243,
   "id": "8d80d8bb-79dc-486a-9fe3-7a438e908134",
   "metadata": {},
   "outputs": [
    {
     "name": "stdout",
     "output_type": "stream",
     "text": [
      "              precision    recall  f1-score   support\n",
      "\n",
      "           0      0.870     0.838     0.854      2970\n",
      "           1      0.852     0.881     0.866      3134\n",
      "\n",
      "    accuracy                          0.860      6104\n",
      "   macro avg      0.861     0.860     0.860      6104\n",
      "weighted avg      0.861     0.860     0.860      6104\n",
      "\n"
     ]
    },
    {
     "data": {
      "image/png": "[encoded data removed]",
      "text/plain": [
       "<Figure size 800x500 with 2 Axes>"
      ]
     },
     "metadata": {},
     "output_type": "display_data"
    }
   ],
   "source": [
    "metrics_score(y_test, y_pred_test)"
   ]
  },
  {
   "cell_type": "markdown",
   "id": "0d0d0987-708d-4213-bcd1-938523449c44",
   "metadata": {},
   "source": [
    "The performance of Naive Bayes is slightly lower than the performance of our logistic regression model however we are still well-balanced in predicting both classes. \n",
    "\n",
    "**Potential differences in models:**\n",
    "\n",
    "Logistic regression assumes a linear relationship between the features and the log-odds of the target class. This means that if the true decision boundary in our data is linear (or close to linear), logistic regression will be a good fit and may out-perform Naive Bayes.\n",
    "On the other hand, the Naive Bayes assumes that the features are conditionally independent given the class and follows a Bernoulli distribution (binary variables) for each feature. This can be a very strong and often unrealistic assumption, especially if the features are correlated (we drop most highly correlated features but due to one-hot encodng we may still have multicollinearity). Thus due to a few continuous features along with potential dependance in features, the Naive Bayes model might struggle a bit more than Logistic Regression. "
   ]
  },
  {
   "cell_type": "code",
   "execution_count": null,
   "id": "58fae888-545b-4d82-b4ff-b14b93ca41c7",
   "metadata": {},
   "outputs": [],
   "source": []
  }
 ],
 "metadata": {
  "kernelspec": {
   "display_name": "Python 3 (ipykernel)",
   "language": "python",
   "name": "python3"
  },
  "language_info": {
   "codemirror_mode": {
    "name": "ipython",
    "version": 3
   },
   "file_extension": ".py",
   "mimetype": "text/x-python",
   "name": "python",
   "nbconvert_exporter": "python",
   "pygments_lexer": "ipython3",
   "version": "3.12.4"
  }
 },
 "nbformat": 4,
 "nbformat_minor": 5
}
